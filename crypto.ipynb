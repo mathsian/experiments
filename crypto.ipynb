{
 "cells": [
  {
   "cell_type": "markdown",
   "metadata": {
    "slideshow": {
     "slide_type": "slide"
    }
   },
   "source": [
    "Public key encryption depends on some pretty deep maths, but it boils down to this\n",
    "\n",
    "Anyone can encode a message to you using your *public key*, a pair of numbers `r` and `n`.\n",
    "\n",
    "Only you can decode the message using your *private key*, another number `s`."
   ]
  },
  {
   "cell_type": "markdown",
   "metadata": {
    "slideshow": {
     "slide_type": "subslide"
    }
   },
   "source": [
    "It depends on a relationship between the original message `M` and the encoded message `C`\n",
    "\n",
    "For three carefully chosen numbers `n`, `r` and `s`,\n",
    "\n",
    "If `M`<sup>`r`</sup>` %n = C` then `C`<sup>`s`</sup>` %n = M`\n",
    "\n",
    "To encode, raise the message to the power `r` and find the remainder when you divide by `n`\n",
    "\n",
    "To decode, raise the coded message to the power `s` and find the remainder when you divide by `n`"
   ]
  },
  {
   "cell_type": "markdown",
   "metadata": {
    "slideshow": {
     "slide_type": "subslide"
    }
   },
   "source": [
    "Choosing `n`, `r` and `s`\n",
    "\n",
    "* `n` is the product of two primes `p` and `q`\n",
    "* `r` has no common factors with `m`, the lowest common multiple of `(p-1)` and `(q-1)`\n",
    "* `rs %m = 1`"
   ]
  },
  {
   "cell_type": "markdown",
   "metadata": {},
   "source": [
    "### Key exchange\n",
    "\n",
    "The numbers `n` and `r` are your *public key*. Anyone can use them to enode a message to you.\n",
    "\n",
    "The numbers `n` and `s` are your *private key*. Only you know them, so only you can decode the message."
   ]
  },
  {
   "cell_type": "markdown",
   "metadata": {},
   "source": [
    "### Generating your public key\n",
    "\n",
    "Pick two prime numbers `p` and `q` and multiply them to get `n=pq`"
   ]
  },
  {
   "cell_type": "code",
   "execution_count": 1,
   "metadata": {},
   "outputs": [
    {
     "data": {
      "text/plain": [
       "551"
      ]
     },
     "execution_count": 1,
     "metadata": {},
     "output_type": "execute_result"
    }
   ],
   "source": [
    "p = 19\n",
    "q = 29\n",
    "n = p*q\n",
    "n"
   ]
  },
  {
   "cell_type": "markdown",
   "metadata": {},
   "source": [
    "For the public key we need `r` to have no common factors with `(p-1)(q-1)`\n",
    "\n",
    "So we'll find the lowest common multiple of `(p-1)(q-1)` using the `lcm` function from the `sympy` module, and call it `m`"
   ]
  },
  {
   "cell_type": "code",
   "execution_count": 2,
   "metadata": {},
   "outputs": [],
   "source": [
    "from sympy import lcm"
   ]
  },
  {
   "cell_type": "code",
   "execution_count": 3,
   "metadata": {},
   "outputs": [
    {
     "data": {
      "text/plain": [
       "252"
      ]
     },
     "execution_count": 3,
     "metadata": {},
     "output_type": "execute_result"
    }
   ],
   "source": [
    "m = lcm(p-1,q-1)\n",
    "m"
   ]
  },
  {
   "cell_type": "markdown",
   "metadata": {},
   "source": [
    "We can choose `r=5` because `252` is not divisible by `5`"
   ]
  },
  {
   "cell_type": "code",
   "execution_count": 4,
   "metadata": {},
   "outputs": [],
   "source": [
    "r = 5"
   ]
  },
  {
   "cell_type": "markdown",
   "metadata": {},
   "source": [
    "The numbers `n=551` and `r=5` are our *public key*\n",
    "\n",
    "For our *private key*, we need another number `s` such that `rs%m=1` is one more than a multiple of `m`.\n",
    "\n",
    "In other words, `rs=km+1`"
   ]
  },
  {
   "cell_type": "code",
   "execution_count": 6,
   "metadata": {},
   "outputs": [],
   "source": [
    "from sympy import diophantine, symbols\n",
    "s , k = symbols('s k')"
   ]
  },
  {
   "cell_type": "code",
   "execution_count": null,
   "metadata": {},
   "outputs": [],
   "source": [
    "diophantine(r*s - k*m - 1)"
   ]
  },
  {
   "cell_type": "markdown",
   "metadata": {},
   "source": [
    "This tells us we could choose any number of the form `252t+101` for our `s`, so let's choose `s=252+101=353`"
   ]
  },
  {
   "cell_type": "code",
   "execution_count": 8,
   "metadata": {},
   "outputs": [
    {
     "data": {
      "text/plain": [
       "353"
      ]
     },
     "execution_count": 8,
     "metadata": {},
     "output_type": "execute_result"
    }
   ],
   "source": [
    "s = 252 + 101\n",
    "s"
   ]
  },
  {
   "cell_type": "markdown",
   "metadata": {},
   "source": [
    "Just to check:"
   ]
  },
  {
   "cell_type": "code",
   "execution_count": 9,
   "metadata": {},
   "outputs": [
    {
     "data": {
      "text/plain": [
       "1"
      ]
     },
     "execution_count": 9,
     "metadata": {},
     "output_type": "execute_result"
    }
   ],
   "source": [
    "r*s%m"
   ]
  },
  {
   "cell_type": "markdown",
   "metadata": {},
   "source": [
    "We have everything we need\n",
    "\n",
    "* A public key, `n=551` and `r=5`\n",
    "* A private key, `n=551` and `s=353`\n",
    "\n",
    "We give everyone our public key, so they generate the *coded* message `C` by doing `M` to the power `r` mod `n`"
   ]
  },
  {
   "cell_type": "markdown",
   "metadata": {},
   "source": [
    "Suppose someone wanted to send you the message `7`, so `M=7`"
   ]
  },
  {
   "cell_type": "code",
   "execution_count": null,
   "metadata": {
    "slideshow": {
     "slide_type": "-"
    }
   },
   "outputs": [],
   "source": [
    "M = 7"
   ]
  },
  {
   "cell_type": "markdown",
   "metadata": {},
   "source": [
    "They use your public key `n=551` and `r=5`, and do `C = M`<sup>`r`</sup>`%n`"
   ]
  },
  {
   "cell_type": "code",
   "execution_count": null,
   "metadata": {},
   "outputs": [],
   "source": [
    "C = M**r%n\n",
    "C"
   ]
  },
  {
   "cell_type": "markdown",
   "metadata": {},
   "source": [
    "When we receive `C` we can `decode` by doing `C` to the power `s` mod `n`"
   ]
  },
  {
   "cell_type": "code",
   "execution_count": 12,
   "metadata": {},
   "outputs": [
    {
     "data": {
      "text/plain": [
       "7"
      ]
     },
     "execution_count": 12,
     "metadata": {},
     "output_type": "execute_result"
    }
   ],
   "source": [
    "(C**s)%n"
   ]
  },
  {
   "cell_type": "markdown",
   "metadata": {},
   "source": [
    "The message was `7`. Phew."
   ]
  }
 ],
 "metadata": {
  "celltoolbar": "Slideshow",
  "kernelspec": {
   "display_name": "Python 3",
   "language": "python",
   "name": "python3"
  },
  "language_info": {
   "codemirror_mode": {
    "name": "ipython",
    "version": 3
   },
   "file_extension": ".py",
   "mimetype": "text/x-python",
   "name": "python",
   "nbconvert_exporter": "python",
   "pygments_lexer": "ipython3",
   "version": "3.5.2"
  }
 },
 "nbformat": 4,
 "nbformat_minor": 2
}
